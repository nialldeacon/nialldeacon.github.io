{
 "cells": [
  {
   "cell_type": "markdown",
   "metadata": {},
   "source": [
    "# Galaxies and the large-scale structure of the Universe\n",
    "\n",
    "_A python exercise notebook written by Rita Tojeiro, October 2017, for the Lab component of the AS1001 Cosmology module at the University of St Andrews, UK. It has been slightly modified to stand alone in an SDSS EPO workshop at AAS. \n",
    "This notebook has benefited from examples provided by Britt Lundgren (University of North Carolina) and Jordan Raddick (John Hopkins University)_.\n",
    "\n",
    "In this Notebook, you will use data from the Sloan Digital Sky Survey (SDSS), to explore the relationship between galaxy properties and the large-scale structure of the Universe. \n",
    "\n",
    "In the end, you should have found an answer to the following questions:\n",
    "\n",
    "- How are galaxies spatially distributed in the Universe?\n",
    "- Are galaxies all the same colour?\n",
    "- Are galaxies all the same shape?\n",
    "- How are galaxies' colours and shapes related to their spacial distribution?\n",
    "\n",
    "\n",
    "## SDSS and SciServer\n",
    "\n",
    "You will answer the above questions yourself, by exploring the largest astronomical dataset in the world - the Sloan Digital Sky Survey (www.sdss.org).\n",
    "\n",
    "You will interact directly with the data using SciServer. SciServer is a cloud-based computing service, that allows users to query the SDSS database, store data in the cloud, and offers seamless integration with python programming tools via notebooks. In practice, this means that you can access and manipulate the largest astronomical dataset in the world, using only a web browser.\n",
    "\n",
    "If you're reading this, you have already followed the instructions to get an account on SciServer, and have uploaded this notebook. These exercise assume that you are familiar with basic python, dataframe manipulation, and matplotlib commands.\n",
    "\n",
    "\n"
   ]
  },
  {
   "cell_type": "markdown",
   "metadata": {},
   "source": [
    "### Imports\n",
    "\n",
    "Firstly, we will import the necessary SciServer and support libraries. "
   ]
  },
  {
   "cell_type": "code",
   "execution_count": null,
   "metadata": {},
   "outputs": [],
   "source": [
    "# Import Python libraries to work with SciServer\n",
    "import SciServer.CasJobs as CasJobs # query with CasJobs\n",
    "import SciServer.SciDrive as SciDrive   # read/write to/from SciDrive\n",
    "import SciServer.SkyServer as SkyServer   # show individual objects and generate thumbnail images through SkyServer\n",
    "print('SciServer libraries imported')\n",
    "\n",
    "# Import other libraries for use in this notebook.\n",
    "import numpy as np                  # standard Python lib for math ops\n",
    "from imageio import imwrite       # save images as files\n",
    "import pandas                       # data manipulation package\n",
    "import matplotlib.pyplot as plt     # another graphing package\n",
    "import os                           # manage local files in your Compute containers\n",
    "print('Supporting libraries imported')\n",
    "\n",
    "#import astroML\n",
    "#from astroML.datasets import fetch_sdss_spectrum\n",
    "from astropy.io import ascii\n",
    "\n",
    "# Apply some special settings to the imported libraries\n",
    "# ensure columns get written completely in notebook\n",
    "pandas.set_option('display.max_colwidth', -1)\n",
    "# do *not* show python warnings \n",
    "import warnings\n",
    "warnings.filterwarnings('ignore')\n",
    "print('Settings applied')"
   ]
  },
  {
   "cell_type": "markdown",
   "metadata": {},
   "source": [
    "## Querying the SDSS database\n",
    "\n",
    "The SDSS data is stored in a SQL database. SQL is a languased used to communicate with databases via \"queries\". For each query command, the database returns an answer. Usually, this is a subsample of the original database, though SQL can operate on the data very effectively too. In this tutorial we will submit queries to the SDSS database to gather the information that we need, and we will use python to operate on, manipulate, and vizualise that data.\n",
    "\n",
    "An extensive tutorial on how to query the SDSS database is provided here: http://skyserver.sdss.org/dr14/en/help/howto/search/searchhowtohome.aspx . In short, every SQL command consists of three blocks: \n",
    "- The **SELECT** block: it defines the quantities that you want your query to return.\n",
    "- The **FROM** block: it defines which tables of the database you want SQL to look in.\n",
    "- The **WHERE** block: it defines any constraints on the data that you want to impose.\n",
    "\n",
    "In this Lab you won't have to write SQL queries from scratch, only execute commands that are already written for you."
   ]
  },
  {
   "cell_type": "markdown",
   "metadata": {},
   "source": [
    "### Using SQL and SciServer to return galaxy data\n",
    "\n",
    "For the database schema and documentation see http://skyserver.sdss.org/dr14/en/help/browser/browser.aspx The following query returns specific information on a sample of galaxies, as a dataframe.\n"
   ]
  },
  {
   "cell_type": "code",
   "execution_count": null,
   "metadata": {},
   "outputs": [],
   "source": [
    "# Find objects in the Sloan Digital Sky Survey's Data Release 14.\n",
    "#\n",
    "# Query the Sloan Digital Sky Serveys' Data Release 14.\n",
    "# For the database schema and documentation see http://skyserver.sdss.org/dr14\n",
    "#\n",
    "# This query finds all galaxies with a size (petror90_r) greater than 10 arcseconds, within\n",
    "# a region of sky with 100 < RA < 250, a redshift between 0.02 and 0.5, and a g-band magnitude brighter than 17.\n",
    "# \n",
    "# First, store the query in an object called \"query\"\n",
    "query=\"\"\"\n",
    "SELECT p.objId,p.ra,p.dec,p.petror90_r, p.expAB_r,\n",
    "    p.dered_u as u, p.dered_g as g, p.dered_r as r, p.dered_i as i, \n",
    "    s.z, s.plate, s.mjd, s.fiberid\n",
    "FROM galaxy AS p\n",
    "   JOIN SpecObj AS s ON s.bestobjid = p.objid\n",
    "WHERE p.petror90_r > 10\n",
    "  and p.ra between 100 and 250\n",
    "  and s.z between 0.02 and 0.5\n",
    "  and p.g < 17\n",
    "\"\"\"\n",
    "#Then, query the database. The answer is a table that is being returned to a dataframe that we've named all_gals.\n",
    "all_gals = CasJobs.executeQuery(query, \"dr16\")\n",
    "\n",
    "print(\"SQL query finished.\")\n",
    "print(\"SQL query returned \" + str(len(all_gals))+ \" galaxies\")"
   ]
  },
  {
   "cell_type": "markdown",
   "metadata": {},
   "source": [
    "The dataframe that is returned, which we named all_gals, holds the following quantities (in columns) for each galaxy:\n",
    "\n",
    "- ra = Right Ascencion coordinate in degrees\n",
    "- dec = Declination coordinate in degrees\n",
    "- petror90_r = Radius enclosing 90% of the pertrosian flux in arcseconds. I.e., size of the galaxy in the sky.\n",
    "- dered_u, dered_g, dered_r, dered_i, dered_z = Magnitudes in 5 optical filters, from the blue to the red, after subtracting the attenuation due to the Milky Way.\n",
    "- z = Redshift of the galaxy\n",
    "- plate = Plate number (SDSS used alluminium plates with drilled holes for positioning optical fibers).\n",
    "- mjd = Date of the observation\n",
    "- fiberid = Number of the fiber in a given plate. Plates have between 640 and 1000 fibers."
   ]
  },
  {
   "cell_type": "markdown",
   "metadata": {},
   "source": [
    "Let's have a look at the first 10 elements of the returned table (dataframe):"
   ]
  },
  {
   "cell_type": "code",
   "execution_count": null,
   "metadata": {},
   "outputs": [],
   "source": [
    "all_gals[0:10]"
   ]
  },
  {
   "cell_type": "markdown",
   "metadata": {},
   "source": [
    "## The large scale structure of the Universe "
   ]
  },
  {
   "cell_type": "markdown",
   "metadata": {},
   "source": [
    "### Exercise:\n",
    "\n",
    "1. Plot the positions of all galaxies usint plt.scatter(). Remember to add labels and a title to your plot. Given the large number of points, you might want to use marker='.' and s=1.\n",
    "\n",
    "2. What can you tell from the distribution of galaxies? Are they uniformly distributed on the sky?"
   ]
  },
  {
   "cell_type": "code",
   "execution_count": null,
   "metadata": {},
   "outputs": [],
   "source": [
    "#solution\n"
   ]
  },
  {
   "cell_type": "markdown",
   "metadata": {},
   "source": [
    "### Exercise: \n",
    "\n",
    "Using the np.where() command, select galaxies in two narrow redshift slices:\n",
    "- slice 1: 0.02 < z < 0.03 (green)\n",
    "- slice 2: 0.03 < z < 0.04 (orange)\n",
    "\n",
    "Make the same plot as above, but only using the galaxies in each slice using the suggested colour scheme (make one plot for each slice). Finally, make a third plot with galaxies from both redshift slices. Add axis labels, a title and an legend to each plot.\n"
   ]
  },
  {
   "cell_type": "code",
   "execution_count": null,
   "metadata": {},
   "outputs": [],
   "source": [
    "#solution\n"
   ]
  },
  {
   "cell_type": "code",
   "execution_count": null,
   "metadata": {},
   "outputs": [],
   "source": [
    "#solution\n"
   ]
  },
  {
   "cell_type": "code",
   "execution_count": null,
   "metadata": {},
   "outputs": [],
   "source": [
    "#solution\n"
   ]
  },
  {
   "cell_type": "markdown",
   "metadata": {},
   "source": [
    "### Exercise:\n",
    "\n",
    "Do you see more structure in the distribution of galaxies in each slice, when compared to your first plot that included all galaxies? \n",
    "\n",
    "What can you tell about the structure you see in the two different redshift slices?\n",
    "\n",
    "Why couldn't you see it in your first plot?"
   ]
  },
  {
   "cell_type": "markdown",
   "metadata": {},
   "source": [
    "Answer:\n",
    "\n"
   ]
  },
  {
   "cell_type": "markdown",
   "metadata": {},
   "source": [
    "## Galaxy colours\n",
    "\n",
    "You will see in lectures that the optical colours of galaxies are related to the age of their stars - red galaxies hold older (redder, cooler) stars, whereas blue galaxies tend to have younger (bluer, hotted) stars. In practice, we can quantify \"colour\" in Astronomy as _the difference in magnitude in two different bands_.\n",
    "\n",
    "The final exercises in the first notebook (SciServerLab_session1) give you a demonstration of how colours work in practice, and how the shape of the spectrum of a galaxy. We didn't consider it in the first notebook, but redshift can also affect the observed colour of galaxies (you will learn this in the later lectures, if you haven't yet). \n",
    "\n",
    "In this set of exercises **we will focus on the first slice in redshift**, which is very narrow, meaning that all galaxies have a similar redshift. I.e., if galaxies in this redshift slice have different colours, _it ought to be because their spectra and stellar composition are different_, and not because some are redshifted due to the expansion of the Universe. \n",
    "\n",
    "The following cell plots a histogram of the values of the **u-g colour** of the galaxies in your dataframe:"
   ]
  },
  {
   "cell_type": "code",
   "execution_count": null,
   "metadata": {},
   "outputs": [],
   "source": [
    "\n",
    "slice1 = np.where( (all_gals['z'] > 0.02) & (all_gals['z'] < 0.03))[0]\n",
    "\n",
    "plt.hist(all_gals.loc[slice1]['u']-all_gals.loc[slice1]['g'], bins=40, range=(0.5,2.5))\n",
    "plt.xlabel('u-g')\n",
    "plt.ylabel('Number of galaxies')\n",
    "plt.title('Distribution of u-g color in 0.02 < z < 0.03')"
   ]
  },
  {
   "cell_type": "markdown",
   "metadata": {},
   "source": [
    "**np.percentile()** (https://docs.scipy.org/doc/numpy-dev/reference/generated/numpy.percentile.html) allows you to quickly return the percentile of a distribution of points. For example, to find the median (50th percentile) u-g colour of your galaxy population you can write:"
   ]
  },
  {
   "cell_type": "code",
   "execution_count": null,
   "metadata": {},
   "outputs": [],
   "source": [
    "median_umg = np.percentile(all_gals.loc[slice1]['u']-all_gals.loc[slice1]['g'], 50)\n",
    "print(median_umg)"
   ]
  },
  {
   "cell_type": "markdown",
   "metadata": {},
   "source": [
    "i.e., 50% of the galaxies in your sample have u-g colours that are lower than median_umg (i.e., they are bluer than the median), and 50% have  colours that are larger (i.e., they are redder than the median). If I wanted to choose only the 10% reddest galaxies I could do:"
   ]
  },
  {
   "cell_type": "code",
   "execution_count": null,
   "metadata": {},
   "outputs": [],
   "source": [
    "high_umg = np.percentile(all_gals.loc[slice1]['u']-all_gals.loc[slice1]['g'], 90)\n",
    "\n",
    "very_red_galaxies = np.where((all_gals['z'] > 0.02) & (all_gals['z'] < 0.03) & \n",
    "                                (all_gals['u']-all_gals['g'] > high_umg))"
   ]
  },
  {
   "cell_type": "markdown",
   "metadata": {},
   "source": [
    "### Exercise:\n",
    "\n",
    "Use np.percentile() to choose the 25% reddest and 25% bluest galaxies in u-g. Then plot their positions on the sky. Do both types of galaxies trace the large-scale structure in a similar way? What can you say about which galaxies preferencially sit on denser parts of the Universe, and which sit on less dense regions (we call this _environment_)? For this exercise it is recommended that you make two plots (one for the red galaxies, and one for the blue), but that you put them side by side to help you compare.\n"
   ]
  },
  {
   "cell_type": "code",
   "execution_count": null,
   "metadata": {},
   "outputs": [],
   "source": [
    "#solution"
   ]
  },
  {
   "cell_type": "code",
   "execution_count": null,
   "metadata": {},
   "outputs": [],
   "source": [
    "#solution\n"
   ]
  },
  {
   "cell_type": "markdown",
   "metadata": {},
   "source": [
    "By now you will have started developing an understanding of how galaxies in general are spacially distributed in the Universe and the shape of the cosmic web, and how galaxies' position on the cosmic web and their environment is related to their colour. Next, we will look at the **shape** of galaxies."
   ]
  },
  {
   "cell_type": "markdown",
   "metadata": {},
   "source": [
    "## Galaxy morphology\n",
    "\n",
    "Galaxy morphology studies the shapes of galaxies. You will already have some understanding of how local galaxies look like, from your exploration of SDSS imaging in the first Lab session using the SDSS SkyServer Navigate Tool. \n",
    "\n",
    "Here, we will do a more systematic exploration of how galaxy shapes are related to other properties.\n",
    "\n",
    "The next cell provides a bit of code that selects 16 **random** galaxies from your dataframe, and shows you their optical images."
   ]
  },
  {
   "cell_type": "code",
   "execution_count": null,
   "metadata": {},
   "outputs": [],
   "source": [
    "def show_galaxy_images(my_galaxies):\n",
    "    #plot a random subset of 16 galaxies\n",
    "    # set thumbnail parameters\n",
    "    width=200           # image width\n",
    "    height=200          # height\n",
    "    pixelsize=0.396     # image scale\n",
    "    plt.figure(figsize=(15, 15))   # display in a 4x4 grid\n",
    "    subPlotNum = 1\n",
    "\n",
    "\n",
    "    i = 0\n",
    "    nGalaxies = 16 #Total number of galaxies to plot\n",
    "    ind = np.random.randint(0,len(my_galaxies), nGalaxies) #randomly selected rows\n",
    "    count=0\n",
    "    for i in ind:           # iterate through the randomly selected rows in the DataFrame\n",
    "        count=count+1\n",
    "        print('Getting image '+str(count)+' of '+str(nGalaxies)+'...')\n",
    "        if (count == nGalaxies):\n",
    "            print('Plotting images...')\n",
    "        scale=2*all_gals.loc[i]['petror90_r']/pixelsize/width\n",
    "        img = SkyServer.getJpegImgCutout(ra=all_gals.loc[my_galaxies[i]]['ra'], dec=all_gals.loc[my_galaxies[i]]['dec'], width=width, height=height, scale=scale,dataRelease='DR14')\n",
    "        plt.subplot(4,4,subPlotNum)\n",
    "        subPlotNum += 1\n",
    "        plt.imshow(img)                               # show images in grid\n",
    "        plt.title(all_gals.loc[my_galaxies[i]]['z'])     "
   ]
  },
  {
   "cell_type": "markdown",
   "metadata": {},
   "source": [
    "You can use the function defined above to plot 16 _random_ galaxies from any dataframe. For example, to plot 16 galaxies randomly selected in a redshift slice 0.02 < z < 0.03 you might do:"
   ]
  },
  {
   "cell_type": "code",
   "execution_count": null,
   "metadata": {},
   "outputs": [],
   "source": [
    "my_galaxies = np.where( (all_gals['z'] > 0.02) & (all_gals['z'] < 0.03))[0]\n",
    "show_galaxy_images(my_galaxies)"
   ]
  },
  {
   "cell_type": "markdown",
   "metadata": {},
   "source": [
    "### Exercise:\n",
    "Compute the fraction of galaxies you'd classify as having disks, and the fraction of galaxies you'd classify as being smooth ellipsoids. Do this classification by eye. If you want to improve your statistics, you can rerun the cell above and you will get 16 different galaxies every time..."
   ]
  },
  {
   "cell_type": "markdown",
   "metadata": {},
   "source": [
    "### Exercise:\n",
    "Now starting from the code given in the example above (copy it and paste it onto the cell below), do the same thing but taking 16 random galaxies that are **red**, according to your earlier definition of red and blue. Once again, classify the galaxies as disks or ellipticals."
   ]
  },
  {
   "cell_type": "code",
   "execution_count": null,
   "metadata": {},
   "outputs": [],
   "source": [
    "#solution"
   ]
  },
  {
   "cell_type": "markdown",
   "metadata": {},
   "source": [
    "### Exercise:\n",
    "\n",
    "Repeat the above exercise, now with blue galaxies. Repeat your classification exercise."
   ]
  },
  {
   "cell_type": "code",
   "execution_count": null,
   "metadata": {
    "scrolled": false
   },
   "outputs": [],
   "source": [
    "#solution"
   ]
  },
  {
   "cell_type": "markdown",
   "metadata": {},
   "source": [
    "### Exercise:\n",
    "\n",
    "From the above exercise, what can you say - if anything - about the relationship between colour and morphology?"
   ]
  },
  {
   "cell_type": "markdown",
   "metadata": {},
   "source": [
    "## Morphology and environment\n",
    "\n",
    "Finally, we will explore the **relationship between morphology and environment**. It is extraordinarily difficult to write a computer programme that determines whether a galaxy has spiral structure or is smooth. To this day, the human eye does better than the most sophisticated algorithms (the reason behind projects such as Galaxy Zoo - https://www.galaxyzoo.org). We will use a very simple proxy for morphology, which is good enough for our purposes: the sersic index. The sersic index tells us how rapidly the light profile of a galaxy is falling from the center, and essentially classifies galaxies' light profiles as being very centrally concentrated (like ellipticals), or as being flatter (like spirals). \n",
    "\n",
    "The cell below repeats our initial SQL query, but now it also returns the sersic profile, called sersic_n, and we are already limiting the redshift range to be between 0.02 and 0.03."
   ]
  },
  {
   "cell_type": "code",
   "execution_count": null,
   "metadata": {},
   "outputs": [],
   "source": [
    "query=\"\"\"\n",
    "SELECT p.objId, p.ra,p.dec,p.petror90_r, p.expAB_r,\n",
    "    p.dered_u as u, p.dered_g as g, p.dered_r as r, p.dered_i as i, \n",
    "    s.z, s.plate, s.mjd, s.fiberid, n.sersic_n\n",
    "FROM galaxy AS p\n",
    "   JOIN SpecObj AS s ON s.bestobjid = p.objid\n",
    "   JOIN nsatlas AS n ON n.mjd = s.mjd and n.fiberID = s.fiberID and n.plate = s.plate\n",
    "WHERE p.petror90_r > 10\n",
    "  and p.ra between 100 and 250\n",
    "  and s.z between 0.02 and 0.03\n",
    "  and p.g < 17\n",
    "\"\"\"\n",
    "all_gals = CasJobs.executeQuery(query, \"dr14\")\n",
    "print(\" Query returns \" + str(len(all_gals))+ \" galaxies\")"
   ]
  },
  {
   "cell_type": "markdown",
   "metadata": {},
   "source": [
    "\n",
    "Below is a histogram of the values of the sersic index in our sample. Let us call galaxies with a very high sersic index ellipticals (n > 4), and a very low sersic index spirals (n < 2)."
   ]
  },
  {
   "cell_type": "code",
   "execution_count": null,
   "metadata": {},
   "outputs": [],
   "source": [
    "plt.figure(figsize=(8,6))\n",
    "plt.hist(all_gals['sersic_n'], bins=20)\n",
    "plt.xlabel('Sersic index n')\n",
    "plt.ylabel('Number of galaxies')\n",
    "plt.title('Distribution of Sersic index values')"
   ]
  },
  {
   "cell_type": "markdown",
   "metadata": {},
   "source": [
    "### Exercise:\n",
    "\n",
    "Look at the morphologies of high and low sersic index galaxies, like you did for blue and red. In your opinion, how good is this number at identifying morphology?"
   ]
  },
  {
   "cell_type": "code",
   "execution_count": null,
   "metadata": {},
   "outputs": [],
   "source": [
    "#solution  "
   ]
  },
  {
   "cell_type": "code",
   "execution_count": null,
   "metadata": {},
   "outputs": [],
   "source": [
    "#solution"
   ]
  },
  {
   "cell_type": "markdown",
   "metadata": {},
   "source": [
    "Answer:"
   ]
  },
  {
   "cell_type": "markdown",
   "metadata": {},
   "source": [
    "### Exercise:\n",
    "\n",
    "Now plot the positions of low and high sersic index galaxies, side by side as you did for blue and red galaxies. In your opinion, do you have enough information to determine what property galaxy density influences the most (colour or morphology)? You are encouraged to experiment with different definitions of colour and morphology if you wish, or indeed make an argument as to why your exploration is insuffiencent to answer such a question. "
   ]
  },
  {
   "cell_type": "code",
   "execution_count": null,
   "metadata": {},
   "outputs": [],
   "source": [
    "#solution"
   ]
  },
  {
   "cell_type": "markdown",
   "metadata": {},
   "source": [
    "**Congratulations, that is the end of the Lab!** Make sure you've **run all the code cells, filled in all the text answers and that your plots are all showing without error**. **Print** out the notebook, and **attach it to your lab book**. This account on SciServer is yours to keep, and you're welcome to explore further at any time. If you do, and you ever need some guidance, I would be more than happy to help."
   ]
  },
  {
   "cell_type": "code",
   "execution_count": null,
   "metadata": {},
   "outputs": [],
   "source": []
  }
 ],
 "metadata": {
  "kernelspec": {
   "display_name": "Python 3.8 (py38)",
   "language": "python",
   "name": "py38"
  },
  "language_info": {
   "codemirror_mode": {
    "name": "ipython",
    "version": 3
   },
   "file_extension": ".py",
   "mimetype": "text/x-python",
   "name": "python",
   "nbconvert_exporter": "python",
   "pygments_lexer": "ipython3",
   "version": "3.8.5"
  }
 },
 "nbformat": 4,
 "nbformat_minor": 1
}
